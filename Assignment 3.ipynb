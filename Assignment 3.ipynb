{
 "cells": [
  {
   "cell_type": "code",
   "execution_count": 2,
   "id": "6fd0e5e5",
   "metadata": {},
   "outputs": [
    {
     "name": "stdout",
     "output_type": "stream",
     "text": [
      "Menu: \n",
      "101. Cheese Burger - $8 (Available: 20)\n",
      "102. Bacon Burger - $9 (Available: 15)\n",
      "103. Veggie Burger - $7.5 (Available: 10)\n",
      "201. Fries - $2 (Available: 25)\n",
      "202. Salad - $3 (Available: 30)\n",
      "301. Soda - $2 (Available: 25)\n",
      "302. Water - $1.5 (Available: 20)\n"
     ]
    },
    {
     "name": "stdin",
     "output_type": "stream",
     "text": [
      "Enter the customer's name (or 'end' to close the day):  d\n",
      "Enter item number order by d (or '0' to finish order):  0\n"
     ]
    },
    {
     "name": "stdout",
     "output_type": "stream",
     "text": [
      "d's tab is $0.00\n",
      "\n"
     ]
    },
    {
     "name": "stdin",
     "output_type": "stream",
     "text": [
      "Enter the customer's name (or 'end' to close the day):  end\n"
     ]
    },
    {
     "name": "stdout",
     "output_type": "stream",
     "text": [
      "Total number of customers sold: 1\n",
      "Total revenue: $0.00\n",
      "Items sold:\n",
      "    Cheese Burger: 0\n",
      "    Bacon Burger: 0\n",
      "    Veggie Burger: 0\n",
      "    Fries: 0\n",
      "    Salad: 0\n",
      "    Soda: 0\n",
      "    Water: 0\n"
     ]
    }
   ],
   "source": [
    "#initialize lists and variables\n",
    "items = ['Cheese Burger', 'Bacon Burger', 'Veggie Burger', 'Fries', 'Salad', 'Soda', 'Water']\n",
    "itemnums = [101, 102, 103, 201, 202, 301, 302]\n",
    "prices = [8, 9, 7.5, 2, 3, 2, 1.5]\n",
    "batch = [20, 15, 10, 25, 30, 25, 20]\n",
    "name = \"\"\n",
    "customers = 0\n",
    "revenue = 0\n",
    "items_sold = [0,0,0,0,0,0,0]\n",
    "\n",
    "#define functions\n",
    "def display_menu():\n",
    "    print(\"Menu: \")\n",
    "    for i in range(0,7):\n",
    "        print(f\"{itemnums[i]}. {items[i]} - ${prices[i]} (Available: {batch[i]})\")\n",
    "        \n",
    "def get_name():\n",
    "        name = input(\"Enter the customer's name (or 'end' to close the day): \")\n",
    "        return name\n",
    "    \n",
    "def item_number(name):\n",
    "    item_number = int(input(f\"Enter item number order by {name} (or '0' to finish order): \"))\n",
    "    if item_number not in itemnums:\n",
    "        while item_number not in itemnums:\n",
    "            if item_number == 0:\n",
    "                break\n",
    "            else:\n",
    "                item_number = int(input(\"Wrong entry! Try again \"))\n",
    "    return item_number\n",
    "\n",
    "def quantity_number():\n",
    "    quantity = int(input(\"Enter the quantity: \"))\n",
    "    return quantity\n",
    "\n",
    "def show_results():\n",
    "    print(f\"Total number of customers sold: {customers}\")\n",
    "    print(f\"Total revenue: ${revenue:.2f}\")\n",
    "    print(f\"Items sold:\")\n",
    "    for i in range(len(items)):\n",
    "        print(f\"    {items[i]}: {items_sold[i]}\")\n",
    "        \n",
    "#run program       \n",
    "display_menu()\n",
    "while True:\n",
    "    name = get_name()\n",
    "    if name == 'end':\n",
    "        show_results()\n",
    "        break\n",
    "    customers += 1\n",
    "    subtotal = 0\n",
    "    while True:\n",
    "        item_num = item_number(name)\n",
    "        if item_num == 0:\n",
    "            tax = subtotal * 0.10\n",
    "            total = subtotal + tax\n",
    "            revenue += total\n",
    "            print(f\"{name}'s tab is ${total:.2f}\\n\")\n",
    "            break\n",
    "        \n",
    "        index = itemnums.index(item_num)\n",
    "        while True:\n",
    "            quantity = quantity_number()\n",
    "            if quantity > batch[index]:\n",
    "                print(f\"Only {batch[index]} available. Please enter a lower quantity.\")\n",
    "            else:\n",
    "                batch[index] -= quantity\n",
    "                items_sold[index] += quantity\n",
    "                subtotal += prices[index] * quantity\n",
    "                break\n",
    "\n",
    "\n"
   ]
  },
  {
   "cell_type": "code",
   "execution_count": null,
   "id": "874fc50c-e5cd-4115-aebd-2cc60c0f51ea",
   "metadata": {},
   "outputs": [],
   "source": []
  },
  {
   "cell_type": "code",
   "execution_count": null,
   "id": "ee2dd57f-c245-4e54-b197-b1a932c57932",
   "metadata": {},
   "outputs": [],
   "source": []
  }
 ],
 "metadata": {
  "kernelspec": {
   "display_name": "Python 3 (ipykernel)",
   "language": "python",
   "name": "python3"
  },
  "language_info": {
   "codemirror_mode": {
    "name": "ipython",
    "version": 3
   },
   "file_extension": ".py",
   "mimetype": "text/x-python",
   "name": "python",
   "nbconvert_exporter": "python",
   "pygments_lexer": "ipython3",
   "version": "3.12.4"
  }
 },
 "nbformat": 4,
 "nbformat_minor": 5
}
